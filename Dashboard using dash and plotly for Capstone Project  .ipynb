{
 "cells": [
  {
   "cell_type": "markdown",
   "id": "6b0c519a-9037-46e3-ac0b-efa71459c509",
   "metadata": {},
   "source": [
    "# Hands-on Lab: Build an Interactive Dashboard with Ploty Dash"
   ]
  },
  {
   "cell_type": "markdown",
   "id": "2e595f43-507b-4885-9ddb-8511bb0c962c",
   "metadata": {},
   "source": [
    "In this lab, you will be building a Plotly Dash application for users to perform interactive visual analytics on SpaceX launch data in\n",
    "real-time.\n",
    "\n",
    "This dashboard application contains input components such as a dropdown list and a range slider to\n",
    "interact with a pie chart and a scatter point chart. You will be guided to build this dashboard application via the following tasks:\n",
    "\n",
    "TASK 1: Add a Launch Site Drop-down Input Component\n"
   ]
  },
  {
   "cell_type": "markdown",
   "id": "7ab8f29a-f999-48dd-9731-811211b073b9",
   "metadata": {},
   "source": [
    "TASK 2: Add a callback function to render success-pie-chart based on selected site dropdown\n"
   ]
  },
  {
   "cell_type": "markdown",
   "id": "1205559f-50a1-46b1-a38a-33dd54dfbefd",
   "metadata": {},
   "source": [
    "TASK 3: Add a Range Slider to Select Payload\n"
   ]
  },
  {
   "cell_type": "markdown",
   "id": "773c2082-57b6-49a2-9fbe-7a2ca3133ee3",
   "metadata": {},
   "source": [
    "TASK 4: Add a callback function to render the success-payload-scatter-chart scatter plot"
   ]
  },
  {
   "cell_type": "markdown",
   "id": "fba00228-418d-488a-b14e-de7ed8f91ef6",
   "metadata": {},
   "source": [
    "After visual analysis using the dashboard, you should be able to obtain some insights to answer the following five questions:\n",
    "\n",
    "1. Which site has the largest successful launches?\n",
    "2. Which site has the highest launch success rate?\n",
    "3. Which payload range(s) has the highest launch success rate?\n",
    "4. Which payload range(s) has the lowest launch success rate?\n",
    "5. Which F9 Booster version (v1.0, v1.1, FT, B4, B5, etc.) has the highest\n",
    "   launch success rate?"
   ]
  },
  {
   "cell_type": "markdown",
   "id": "c617a266-895a-4afa-98a5-dcb262a9fec6",
   "metadata": {},
   "source": [
    "### 🚀 TASK 1: Import Libraries & Load Data"
   ]
  },
  {
   "cell_type": "markdown",
   "id": "34452da3-2179-4fc2-9483-415298fae3cd",
   "metadata": {},
   "source": [
    "First, we import required libraries and load the dataset."
   ]
  },
  {
   "cell_type": "code",
   "execution_count": 13,
   "id": "329b53c5-d1ad-4f67-97f4-3d43a1f584d8",
   "metadata": {},
   "outputs": [
    {
     "name": "stderr",
     "output_type": "stream",
     "text": [
      "C:\\Users\\anupa\\AppData\\Local\\Temp\\ipykernel_13248\\2975350096.py:5: UserWarning: \n",
      "The dash_html_components package is deprecated. Please replace\n",
      "`import dash_html_components as html` with `from dash import html`\n",
      "  import dash_html_components as html\n",
      "C:\\Users\\anupa\\AppData\\Local\\Temp\\ipykernel_13248\\2975350096.py:6: UserWarning: \n",
      "The dash_core_components package is deprecated. Please replace\n",
      "`import dash_core_components as dcc` with `from dash import dcc`\n",
      "  import dash_core_components as dcc\n"
     ]
    }
   ],
   "source": [
    "# Import required libraries\n",
    "import pandas as pd\n",
    "from jupyter_dash import JupyterDash\n",
    "import dash\n",
    "import dash_html_components as html\n",
    "import dash_core_components as dcc\n",
    "from dash.dependencies import Input, Output\n",
    "import plotly.express as px\n",
    "\n",
    "# Load dataset\n",
    "file_path = \"spacex_launch_dash.csv\"\n",
    "spacex_df = pd.read_csv(file_path)\n",
    "\n",
    "# Get min and max payload values\n",
    "max_payload = spacex_df['Payload Mass (kg)'].max()\n",
    "min_payload = spacex_df['Payload Mass (kg)'].min()\n"
   ]
  },
  {
   "cell_type": "markdown",
   "id": "62a76368-2899-4588-9d33-bc8d10264cfd",
   "metadata": {},
   "source": [
    "### 🖥 TASK 2: Create Dash App & Define Layout"
   ]
  },
  {
   "cell_type": "markdown",
   "id": "992760fd-b269-44de-bde7-732fe12ff7e4",
   "metadata": {},
   "source": [
    "Now, we create the Dash app and define the UI layout."
   ]
  },
  {
   "cell_type": "code",
   "execution_count": 19,
   "id": "2be7560d-cebb-4716-a079-1ef9b26cf8f0",
   "metadata": {},
   "outputs": [
    {
     "name": "stderr",
     "output_type": "stream",
     "text": [
      "C:\\Users\\anupa\\anaconda3\\Lib\\site-packages\\dash\\dash.py:579: UserWarning:\n",
      "\n",
      "JupyterDash is deprecated, use Dash instead.\n",
      "See https://dash.plotly.com/dash-in-jupyter for more details.\n",
      "\n"
     ]
    }
   ],
   "source": [
    "# Create Dash app\n",
    "app = JupyterDash(__name__)\n",
    "\n",
    "# App layout\n",
    "app.layout = html.Div([\n",
    "    # Dashboard Title\n",
    "    html.H1('SpaceX Launch Records Dashboard', \n",
    "            style={'textAlign': 'center', 'color': '#503D36', 'font-size': 40}),\n",
    "    \n",
    "    # 📌 TASK 2.1: Dropdown for Launch Site Selection\n",
    "    dcc.Dropdown(id='site-dropdown',\n",
    "                 options=[{'label': 'All Sites', 'value': 'ALL'}] +\n",
    "                         [{'label': site, 'value': site} for site in spacex_df['Launch Site'].unique()],\n",
    "                 value='ALL',  # Default value\n",
    "                 placeholder='Select a Launch Site here',\n",
    "                 searchable=True\n",
    "                ),\n",
    "    \n",
    "    html.Br(),\n",
    "\n",
    "    # 📌 TASK 2.2: Pie Chart for Launch Success\n",
    "    html.Div(dcc.Graph(id='success-pie-chart')),\n",
    "    html.Br(),\n",
    "\n",
    "    # 📌 TASK 2.3: Payload Range Slider\n",
    "    html.P(\"Payload range (Kg):\"),\n",
    "    dcc.RangeSlider(id='payload-slider',\n",
    "                    min=0, max=10000, step=1000,\n",
    "                    marks={0: '0', 2500: '2500', 5000: '5000', 7500: '7500', 10000: '10000'},\n",
    "                    value=[min_payload, max_payload]),\n",
    "\n",
    "    html.Br(),\n",
    "\n",
    "    # 📌 TASK 2.4: Scatter Plot for Payload vs. Success\n",
    "    html.Div(dcc.Graph(id='success-payload-scatter-chart')),\n",
    "])\n"
   ]
  },
  {
   "cell_type": "markdown",
   "id": "0e40b5ed-e85e-474a-b445-cd220453f049",
   "metadata": {},
   "source": [
    "### 📊 TASK 3: Callback for Pie Chart"
   ]
  },
  {
   "cell_type": "markdown",
   "id": "a9ae1621-8758-4fa5-8f2b-e1897d3d301e",
   "metadata": {},
   "source": [
    "This callback function updates the Pie Chart based on the selected launch site."
   ]
  },
  {
   "cell_type": "code",
   "execution_count": 22,
   "id": "edafad8b-cc2a-4e4f-b701-c2e8f5cd9910",
   "metadata": {},
   "outputs": [],
   "source": [
    "# Callback for Pie Chart\n",
    "@app.callback(\n",
    "    Output('success-pie-chart', 'figure'),\n",
    "    Input('site-dropdown', 'value')\n",
    ")\n",
    "def update_pie_chart(selected_site):\n",
    "    # If 'ALL' is selected, show total successes per site\n",
    "    if selected_site == 'ALL':\n",
    "        fig = px.pie(spacex_df, values='class', names='Launch Site', \n",
    "                     title='Total Successful Launches by Site')\n",
    "    else:\n",
    "        # Filter data for the selected site\n",
    "        filtered_df = spacex_df[spacex_df['Launch Site'] == selected_site]\n",
    "        fig = px.pie(filtered_df, names='class', \n",
    "                     title=f'Success vs Failure at {selected_site}')\n",
    "    \n",
    "    return fig\n"
   ]
  },
  {
   "cell_type": "markdown",
   "id": "ad82f320-34e3-482c-a2fe-02ea2ac9a1aa",
   "metadata": {},
   "source": [
    "### 📈 TASK 4: Callback for Scatter Plot"
   ]
  },
  {
   "cell_type": "markdown",
   "id": "6d11299f-233e-4a0b-88da-64260bf10560",
   "metadata": {},
   "source": [
    "This callback function updates the Scatter Plot based on:\n",
    "1. Selected Launch Site\n",
    "2. Payload Range"
   ]
  },
  {
   "cell_type": "code",
   "execution_count": 27,
   "id": "c0d978a6-b9d3-4d7d-8b08-d97ffd16459e",
   "metadata": {},
   "outputs": [],
   "source": [
    "# Callback for Scatter Plot\n",
    "@app.callback(\n",
    "    Output('success-payload-scatter-chart', 'figure'),\n",
    "    [Input('site-dropdown', 'value'), \n",
    "     Input('payload-slider', 'value')]\n",
    ")\n",
    "def update_scatter_plot(selected_site, payload_range):\n",
    "    # Filter data based on payload range\n",
    "    filtered_df = spacex_df[(spacex_df['Payload Mass (kg)'] >= payload_range[0]) & \n",
    "                            (spacex_df['Payload Mass (kg)'] <= payload_range[1])]\n",
    "    \n",
    "    # If a specific site is selected, filter further\n",
    "    if selected_site != 'ALL':\n",
    "        filtered_df = filtered_df[filtered_df['Launch Site'] == selected_site]\n",
    "\n",
    "    # Generate scatter plot\n",
    "    fig = px.scatter(filtered_df, x='Payload Mass (kg)', y='class',\n",
    "                     color='Booster Version Category', \n",
    "                     title='Payload vs. Launch Outcome')\n",
    "    \n",
    "    return fig\n"
   ]
  },
  {
   "cell_type": "markdown",
   "id": "ff161984-7523-45f3-a469-79717b4c9e8b",
   "metadata": {},
   "source": [
    "### 🚀 TASK 5: Run the Dash App in Jupyter Notebook\n"
   ]
  },
  {
   "cell_type": "markdown",
   "id": "7d545777-2c0d-4663-88a4-b8317f70c219",
   "metadata": {},
   "source": [
    "Finally, we run the Dash app inside Jupyter Notebook."
   ]
  },
  {
   "cell_type": "code",
   "execution_count": 31,
   "id": "c3eb382e-5e05-4da9-9246-1a548b5f5c80",
   "metadata": {},
   "outputs": [
    {
     "data": {
      "text/html": [
       "\n",
       "        <iframe\n",
       "            width=\"100%\"\n",
       "            height=\"650\"\n",
       "            src=\"http://127.0.0.1:8050/\"\n",
       "            frameborder=\"0\"\n",
       "            allowfullscreen\n",
       "            \n",
       "        ></iframe>\n",
       "        "
      ],
      "text/plain": [
       "<IPython.lib.display.IFrame at 0x1392df1bef0>"
      ]
     },
     "metadata": {},
     "output_type": "display_data"
    },
    {
     "data": {
      "text/html": [
       "\n",
       "        <iframe\n",
       "            width=\"100%\"\n",
       "            height=\"650\"\n",
       "            src=\"http://127.0.0.1:8050/\"\n",
       "            frameborder=\"0\"\n",
       "            allowfullscreen\n",
       "            \n",
       "        ></iframe>\n",
       "        "
      ],
      "text/plain": [
       "<IPython.lib.display.IFrame at 0x1392ddc7f80>"
      ]
     },
     "metadata": {},
     "output_type": "display_data"
    }
   ],
   "source": [
    "# Run app in Jupyter Notebook\n",
    "app.run_server(mode='inline')\n"
   ]
  },
  {
   "cell_type": "code",
   "execution_count": null,
   "id": "8af5bbfa-24c5-4b98-b925-2e6bc4c9d753",
   "metadata": {},
   "outputs": [],
   "source": []
  }
 ],
 "metadata": {
  "kernelspec": {
   "display_name": "Python 3 (ipykernel)",
   "language": "python",
   "name": "python3"
  },
  "language_info": {
   "codemirror_mode": {
    "name": "ipython",
    "version": 3
   },
   "file_extension": ".py",
   "mimetype": "text/x-python",
   "name": "python",
   "nbconvert_exporter": "python",
   "pygments_lexer": "ipython3",
   "version": "3.12.7"
  }
 },
 "nbformat": 4,
 "nbformat_minor": 5
}
